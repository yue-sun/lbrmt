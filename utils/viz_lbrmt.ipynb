{
 "cells": [
  {
   "cell_type": "code",
   "execution_count": 1,
   "metadata": {},
   "outputs": [],
   "source": [
    "from importlib import reload    # module for reloading custom-written modules\n",
    "import numpy as np\n",
    "from math import *\n",
    "from scipy.optimize import least_squares\n",
    "import utils_lbrmt as lbrmt     # utility functions for plotting and data analysis\n",
    "\n",
    "import matplotlib.pyplot as plt\n",
    "import matplotlib\n",
    "import matplotlib.cm as cm\n",
    "import scienceplots             # module for scientific figures\n",
    "plt.style.use('science')"
   ]
  },
  {
   "cell_type": "code",
   "execution_count": null,
   "metadata": {},
   "outputs": [],
   "source": [
    "reload(lbrmt)"
   ]
  },
  {
   "cell_type": "markdown",
   "metadata": {},
   "source": [
    "## Set colormaps"
   ]
  },
  {
   "cell_type": "code",
   "execution_count": 3,
   "metadata": {},
   "outputs": [],
   "source": [
    "# Custom colormap\n",
    "# https://www.schemecolor.com/pastel-rainbow.php\n",
    "rho_min, rho_max = 0.667, 3.0\n",
    "cvals_rho = [0.667, 1.0, 1.5, 3.0]\n",
    "colors = ['#fff2cc', '#D6E6FD', '#F5BAB7', '#E02A2A']  # fff2cc D9EAD3\n",
    "norm = plt.Normalize(min(cvals_rho), max(cvals_rho))\n",
    "tuples = list(zip(map(norm, cvals_rho), colors))\n",
    "cm_rho = matplotlib.colors.LinearSegmentedColormap.from_list(\"\", tuples)"
   ]
  },
  {
   "cell_type": "markdown",
   "metadata": {},
   "source": [
    "## Plot benchmark (4.1)"
   ]
  },
  {
   "cell_type": "code",
   "execution_count": 4,
   "metadata": {},
   "outputs": [],
   "source": [
    "# Specify simulation time and directory\n",
    "outdir = '../sims/fsi_ldc.out'\n",
    "dt = 400     # number of time steps between each frame\n",
    "fr = 36      # which frame to plot\n",
    "fr_end = 100 # end frame\n",
    "eps = 1.5    # blur zone half-width"
   ]
  },
  {
   "cell_type": "markdown",
   "metadata": {},
   "source": [
    "### Plot one frame"
   ]
  },
  {
   "cell_type": "code",
   "execution_count": null,
   "metadata": {},
   "outputs": [],
   "source": [
    "fig, ax, img = lbrmt.plot_field('density', outdir, fr, dt, figsize=(4, 2), dpi=300,\n",
    "                                cmap=cm_rho, cmin=rho_min, cmax=rho_max, cvals=cvals_rho,\n",
    "                                plot_rmap=True, plot_streamlines=True)"
   ]
  },
  {
   "cell_type": "markdown",
   "metadata": {},
   "source": [
    "### Plot centroid trajectory"
   ]
  },
  {
   "cell_type": "code",
   "execution_count": 6,
   "metadata": {},
   "outputs": [],
   "source": [
    "# Compute average locations (centroid) for all frames\n",
    "avg_locs_all = []\n",
    "for fr in range(fr_end+1):\n",
    "    avg_locs, _ = lbrmt.compute_avg_locs_vels(outdir, fr, eps)\n",
    "    avg_locs_all.append(avg_locs)\n",
    "\n",
    "# Plot trajectory\n",
    "cx, cy = np.array(avg_locs_all)[:, :, 0], np.array(avg_locs_all)[:, :, 1]"
   ]
  },
  {
   "cell_type": "code",
   "execution_count": null,
   "metadata": {},
   "outputs": [],
   "source": [
    "fig, ax = plt.subplots(1, 1, figsize=(4, 2), dpi=300)\n",
    "\n",
    "chartBox = ax.get_position()\n",
    "ax.set_position([chartBox.x0, chartBox.y0,\n",
    "                 chartBox.width,\n",
    "                 chartBox.height])\n",
    "\n",
    "ax.plot(cx, cy, color='#ff6666')\n",
    "\n",
    "# Layout bookkeeping\n",
    "nx, ny = 200, 200\n",
    "ax.set_aspect('equal')\n",
    "ax.set_xlim(0, nx)\n",
    "ax.set_xticks([0, nx//2, nx])\n",
    "ax.set_xticklabels([0, r'$L/2$', '$L$'])\n",
    "ax.set_ylim(0, ny)\n",
    "ax.set_yticks([0, ny//2, ny])\n",
    "ax.set_yticklabels([0, r'$\\dfrac{H}{2}$', '$H$'])\n",
    "ax.tick_params(axis='x', which='both', bottom=True,\n",
    "               top=False, labelbottom=True)\n",
    "ax.tick_params(axis='y', which='both', left=True, right=False, labelleft=True)\n",
    "\n",
    "fig.tight_layout()"
   ]
  },
  {
   "cell_type": "markdown",
   "metadata": {},
   "source": [
    "## Plot rotating (4.2)"
   ]
  },
  {
   "cell_type": "code",
   "execution_count": 8,
   "metadata": {},
   "outputs": [],
   "source": [
    "# Specify simulation time and directory\n",
    "outdir = '../sims/fsi_rotate.out'\n",
    "dt = 500     # number of time steps between each frame\n",
    "fr = 45      # which frame to plot\n",
    "fr_end = 180 # end frame\n",
    "eps = 1.5    # blur zone half-width"
   ]
  },
  {
   "cell_type": "code",
   "execution_count": null,
   "metadata": {},
   "outputs": [],
   "source": [
    "fig, ax, img = lbrmt.plot_field('density', outdir, fr, dt, figsize=(4, 2), dpi=300,\n",
    "                                cmap=cm_rho, cmin=rho_min, cmax=rho_max, cvals=cvals_rho,\n",
    "                                plot_rmap=True, plot_streamlines=True)"
   ]
  },
  {
   "cell_type": "markdown",
   "metadata": {},
   "source": [
    "## Plot settling (4.3)"
   ]
  },
  {
   "cell_type": "code",
   "execution_count": 10,
   "metadata": {},
   "outputs": [],
   "source": [
    "# Specify simulation time and directory\n",
    "outdir = '../sims/fsi_settle.out'\n",
    "dt = 200     # number of time steps between each frame\n",
    "fr = 16      # which frame to plot\n",
    "fr_end = 100 # end frame\n",
    "eps = 1.5    # blur zone half-width"
   ]
  },
  {
   "cell_type": "code",
   "execution_count": null,
   "metadata": {},
   "outputs": [],
   "source": [
    "fig, ax, img = lbrmt.plot_field('density', outdir, fr, dt, figsize=(4, 2), dpi=300,\n",
    "                                cmap=cm_rho, cmin=rho_min, cmax=rho_max, cvals=cvals_rho,\n",
    "                                plot_rmap=True, plot_streamlines=True)"
   ]
  },
  {
   "cell_type": "markdown",
   "metadata": {},
   "source": [
    "## Plot mixing (4.4)"
   ]
  },
  {
   "cell_type": "code",
   "execution_count": 12,
   "metadata": {},
   "outputs": [],
   "source": [
    "# Specify simulation time and directory\n",
    "outdir = '../sims/fsi_mix.out'\n",
    "dt = 500     # number of time steps between each frame\n",
    "fr = 22      # which frame to plot\n",
    "fr_end = 100 # end frame\n",
    "eps = 1.5    # blur zone half-width"
   ]
  },
  {
   "cell_type": "code",
   "execution_count": null,
   "metadata": {},
   "outputs": [],
   "source": [
    "fig, ax, img = lbrmt.plot_field('density', outdir, fr, dt, figsize=(4, 2), dpi=300,\n",
    "                                cmap=cm_rho, cmin=rho_min, cmax=rho_max, cvals=cvals_rho,\n",
    "                                plot_rmap=True)"
   ]
  },
  {
   "cell_type": "code",
   "execution_count": null,
   "metadata": {},
   "outputs": [],
   "source": []
  }
 ],
 "metadata": {
  "kernelspec": {
   "display_name": ".venv",
   "language": "python",
   "name": "python3"
  },
  "language_info": {
   "codemirror_mode": {
    "name": "ipython",
    "version": 3
   },
   "file_extension": ".py",
   "mimetype": "text/x-python",
   "name": "python",
   "nbconvert_exporter": "python",
   "pygments_lexer": "ipython3",
   "version": "3.12.6"
  }
 },
 "nbformat": 4,
 "nbformat_minor": 2
}
